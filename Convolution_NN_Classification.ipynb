{
  "nbformat": 4,
  "nbformat_minor": 0,
  "metadata": {
    "colab": {
      "provenance": [],
      "gpuType": "T4",
      "authorship_tag": "ABX9TyPUMCafYP2g4QrI3oIPaKW1",
      "include_colab_link": true
    },
    "kernelspec": {
      "name": "python3",
      "display_name": "Python 3"
    },
    "language_info": {
      "name": "python"
    },
    "accelerator": "GPU"
  },
  "cells": [
    {
      "cell_type": "markdown",
      "metadata": {
        "id": "view-in-github",
        "colab_type": "text"
      },
      "source": [
        "<a href=\"https://colab.research.google.com/github/oxypilus/Convolution-Neural-Network-for-Topic-Classification/blob/main/Convolution_NN_Classification.ipynb\" target=\"_parent\"><img src=\"https://colab.research.google.com/assets/colab-badge.svg\" alt=\"Open In Colab\"/></a>"
      ]
    },
    {
      "cell_type": "code",
      "source": [
        "from pathlib import Path\n",
        "import pandas as pd\n",
        "import torch\n",
        "import torch.nn.functional as F\n",
        "import torch.nn as nn\n",
        "import torch.optim as optim\n",
        "from torch.utils.data import DataLoader, Dataset\n",
        "import pickle\n",
        "\n",
        "from sklearn.datasets import fetch_20newsgroups\n",
        "from sklearn.feature_extraction.text import CountVectorizer\n",
        "from sklearn.preprocessing import OneHotEncoder\n",
        "from sklearn.metrics import classification_report\n",
        "\n",
        "import matplotlib.pyplot as plt\n",
        "import numpy as np\n",
        "from torch.utils.data.dataset import random_split\n",
        "from tqdm import tqdm, tqdm_notebook"
      ],
      "metadata": {
        "id": "KKr1C08vw3Cf"
      },
      "execution_count": 1,
      "outputs": []
    },
    {
      "cell_type": "code",
      "source": [
        "device = torch.device(\"cuda\" if torch.cuda.is_available() else \"cpu\")\n",
        "device"
      ],
      "metadata": {
        "colab": {
          "base_uri": "https://localhost:8080/"
        },
        "id": "SzGz4jHgWHp0",
        "outputId": "05c44dd6-a162-420b-b3d9-344ae5ed4481"
      },
      "execution_count": 2,
      "outputs": [
        {
          "output_type": "execute_result",
          "data": {
            "text/plain": [
              "device(type='cuda')"
            ]
          },
          "metadata": {},
          "execution_count": 2
        }
      ]
    },
    {
      "cell_type": "code",
      "source": [
        "categories = ['alt.atheism',\n",
        " 'comp.graphics',\n",
        " 'comp.os.ms-windows.misc',\n",
        " 'comp.sys.ibm.pc.hardware',\n",
        " 'comp.sys.mac.hardware',\n",
        " 'comp.windows.x',\n",
        " 'misc.forsale',\n",
        " 'rec.autos',\n",
        " 'rec.motorcycles',\n",
        " 'rec.sport.baseball']\n",
        "twenty_train = fetch_20newsgroups(categories=categories, shuffle=True, random_state=42)"
      ],
      "metadata": {
        "id": "oHFBWWrsxAj0"
      },
      "execution_count": 3,
      "outputs": []
    },
    {
      "cell_type": "code",
      "source": [
        "data = {\"news\": twenty_train.data, \"labels\": twenty_train.target}"
      ],
      "metadata": {
        "id": "1wwcjpQTw3GU"
      },
      "execution_count": 4,
      "outputs": []
    },
    {
      "cell_type": "code",
      "source": [
        "class Sequences(Dataset):\n",
        "    def __init__(self):\n",
        "        max_seq_len = 124\n",
        "        df = pd.DataFrame(data)\n",
        "        vectorizer = CountVectorizer(stop_words='english', max_df=0.99, min_df=0.005)\n",
        "        vectorizer.fit(df.news.tolist())\n",
        "\n",
        "        onehotencoder = OneHotEncoder()\n",
        "        targets = np.array(df.labels.tolist())\n",
        "        targets = onehotencoder.fit_transform(targets.reshape(-1,1))\n",
        "\n",
        "        tokenizer = vectorizer.build_analyzer()\n",
        "        token2idx = vectorizer.vocabulary_\n",
        "        token2idx[\"<PAD>\"] = len(token2idx)\n",
        "        self.encode = lambda x: [token2idx[token] for token in tokenizer(x) if token in token2idx]\n",
        "        self.pad = lambda x: x + (max_seq_len - len(x)) * [token2idx[\"<PAD>\"]]\n",
        "\n",
        "        sequences = [self.encode(sequence)[:max_seq_len] for sequence in df.news.tolist()]\n",
        "        sequences, self.labels = zip(*[(sequence, label) for sequence, label in zip(sequences, targets.toarray()) if sequences])\n",
        "        self.sequences = [self.pad(sequence) for sequence in sequences]\n",
        "\n",
        "        self.sequences = torch.LongTensor(self.sequences)#.toarray())\n",
        "        self.labels = torch.FloatTensor(targets.toarray())\n",
        "        self.token2idx = vectorizer.vocabulary_\n",
        "        self.idx2token = {idx: token for token, idx in self.token2idx.items()}\n",
        "\n",
        "    def __getitem__(self, i):\n",
        "        return self.sequences[i, :], self.labels[i]\n",
        "\n",
        "    def __len__(self):\n",
        "        return self.sequences.shape[0]"
      ],
      "metadata": {
        "id": "70lKRYcHx-bo"
      },
      "execution_count": 5,
      "outputs": []
    },
    {
      "cell_type": "code",
      "source": [
        "dataset = Sequences()"
      ],
      "metadata": {
        "id": "xTcWFB0tawdu"
      },
      "execution_count": 6,
      "outputs": []
    },
    {
      "cell_type": "code",
      "source": [
        "def split_train_valid_test(corpus, valid_ratio = 0.1, test_ratio = 0.1):\n",
        "  test_length = int(len(corpus) * test_ratio)\n",
        "  valid_length = int(len(corpus) * valid_ratio)\n",
        "  train_length = len(corpus) - valid_length - test_length\n",
        "  return random_split (corpus, lengths = [train_length, valid_length, test_length])"
      ],
      "metadata": {
        "id": "1TMRK3pOx_cv"
      },
      "execution_count": 7,
      "outputs": []
    },
    {
      "cell_type": "code",
      "source": [
        "train_dataset, valid_dataset, test_dataset = split_train_valid_test (dataset)\n",
        "len(train_dataset), len(valid_dataset), len(test_dataset)"
      ],
      "metadata": {
        "colab": {
          "base_uri": "https://localhost:8080/"
        },
        "id": "oKBjW0D1yDxm",
        "outputId": "45febbbb-1cfe-444b-f18c-8b23b4f12c2f"
      },
      "execution_count": 8,
      "outputs": [
        {
          "output_type": "execute_result",
          "data": {
            "text/plain": [
              "(4632, 579, 579)"
            ]
          },
          "metadata": {},
          "execution_count": 8
        }
      ]
    },
    {
      "cell_type": "code",
      "source": [
        "BATCH_SIZE = 500\n",
        "\n",
        "train_loader = DataLoader(train_dataset,batch_size = BATCH_SIZE)\n",
        "test_loader = DataLoader(test_dataset,batch_size = BATCH_SIZE)\n",
        "valid_loader = DataLoader(valid_dataset,batch_size = BATCH_SIZE)"
      ],
      "metadata": {
        "id": "r43pFIqKx_gb"
      },
      "execution_count": 9,
      "outputs": []
    },
    {
      "cell_type": "code",
      "source": [
        "class Conv_model(nn.Module):\n",
        "  def __init__ (self, inp_size, hidden1, hidden2):\n",
        "    super(Conv_model, self).__init__()\n",
        "\n",
        "    self.filter_sizes = [3, 4, 5, 6]\n",
        "    self.num_filters = [15, 15, 15, 15]\n",
        "    self.dropout = nn.Dropout(p=0.5)\n",
        "\n",
        "    self.embed = nn.Embedding(len(dataset.token2idx), 300, len(dataset.token2idx) - 1)\n",
        "    self.conv1d_list = nn.ModuleList([nn.Conv1d(in_channels = 300, out_channels = self.num_filters[i], kernel_size = self.filter_sizes[i]) for i in range(len(self.filter_sizes))])\n",
        "    self.fc1 = nn.Linear(60,30)#(inp_size,hidden1)\n",
        "    self.fc2 = nn.Linear(30,10)#(hidden1, hidden2)\n",
        "\n",
        "  def forward (self, inp):\n",
        "    x = self.embed(inp)\n",
        "    x_reshaped = x.permute(0,2,1)\n",
        "    x_conv_list = [F.relu(conv1d(x_reshaped)) for conv1d in self.conv1d_list]\n",
        "    x_pool_list = [F.max_pool1d(x_conv, kernel_size=x_conv.shape[2])\n",
        "            for x_conv in x_conv_list]\n",
        "    out = torch.cat([x_pool.squeeze(dim=2) for x_pool in x_pool_list],\n",
        "                         dim=1)\n",
        "    out = F.relu(self.fc1(out))\n",
        "    out = self.fc2(out)\n",
        "\n",
        "    return out"
      ],
      "metadata": {
        "id": "oWDXMKQUS0gT"
      },
      "execution_count": 10,
      "outputs": []
    },
    {
      "cell_type": "code",
      "source": [
        "model = Conv_model(40, 20 , 10)\n",
        "model = model.to(device)"
      ],
      "metadata": {
        "id": "e_p7AsaoyMmq"
      },
      "execution_count": 11,
      "outputs": []
    },
    {
      "cell_type": "code",
      "source": [
        "criterion = nn.CrossEntropyLoss()\n",
        "optimizer = optim.Adam([p for p in model.parameters() if p.requires_grad], lr=0.001)\n",
        "scheduler = torch.optim.lr_scheduler.CosineAnnealingLR(optimizer, T_max=10, eta_min=0)"
      ],
      "metadata": {
        "id": "yJsgNbdmyOsk"
      },
      "execution_count": 12,
      "outputs": []
    },
    {
      "cell_type": "code",
      "source": [
        "train_losses, valid_losses = [], []\n",
        "for epoch in range(25):\n",
        "  model.train()\n",
        "  total_loss, total = 0,0\n",
        "  for inputs, target in train_loader:\n",
        "    inputs = inputs.to(device)\n",
        "    target = target.to(device)\n",
        "    optimizer.zero_grad()\n",
        "    output = model(inputs)\n",
        "    loss = criterion(output, target)\n",
        "    loss.backward()\n",
        "    optimizer.step()\n",
        "    scheduler.step()\n",
        "    total_loss += loss.item()\n",
        "    total += 1\n",
        "  train_loss = total_loss/total\n",
        "\n",
        "  if epoch % 1 == 0:\n",
        "    model.eval()\n",
        "    total_loss, total = 0,0\n",
        "    with torch.no_grad():\n",
        "      for inputs, target in valid_loader:\n",
        "        inputs = inputs.to(device)\n",
        "        target = target.to(device)\n",
        "        output = model(inputs)\n",
        "        loss = criterion(output, target)\n",
        "        total_loss += loss.item()\n",
        "        total += 1\n",
        "    valid_loss = total_loss/total\n",
        "\n",
        "    if len(valid_losses) > 2 and all(valid_loss >= loss for loss in valid_losses[-3:]):\n",
        "      print(\"Stopping early\")\n",
        "      break\n",
        "\n",
        "    train_losses.append(train_loss)\n",
        "    valid_losses.append(valid_loss)\n",
        "    print(\n",
        "        f'epoch #{epoch + 1:3d}\\ttrain_loss: {train_loss:.3f}\\tvalid_loss: {valid_loss:.3f}\\n',\n",
        "    )"
      ],
      "metadata": {
        "colab": {
          "base_uri": "https://localhost:8080/"
        },
        "id": "7CcUCjFpyROT",
        "outputId": "4410eca4-0215-4e95-c026-76d2747debb6"
      },
      "execution_count": 13,
      "outputs": [
        {
          "output_type": "stream",
          "name": "stdout",
          "text": [
            "epoch #  1\ttrain_loss: 2.313\tvalid_loss: 2.280\n",
            "\n",
            "epoch #  2\ttrain_loss: 2.217\tvalid_loss: 2.208\n",
            "\n",
            "epoch #  3\ttrain_loss: 2.060\tvalid_loss: 2.102\n",
            "\n",
            "epoch #  4\ttrain_loss: 1.967\tvalid_loss: 1.986\n",
            "\n",
            "epoch #  5\ttrain_loss: 1.718\tvalid_loss: 1.823\n",
            "\n",
            "epoch #  6\ttrain_loss: 1.589\tvalid_loss: 1.666\n",
            "\n",
            "epoch #  7\ttrain_loss: 1.299\tvalid_loss: 1.482\n",
            "\n",
            "epoch #  8\ttrain_loss: 1.176\tvalid_loss: 1.358\n",
            "\n",
            "epoch #  9\ttrain_loss: 0.948\tvalid_loss: 1.223\n",
            "\n",
            "epoch # 10\ttrain_loss: 0.854\tvalid_loss: 1.147\n",
            "\n",
            "epoch # 11\ttrain_loss: 0.686\tvalid_loss: 1.046\n",
            "\n",
            "epoch # 12\ttrain_loss: 0.610\tvalid_loss: 0.996\n",
            "\n",
            "epoch # 13\ttrain_loss: 0.486\tvalid_loss: 0.914\n",
            "\n",
            "epoch # 14\ttrain_loss: 0.427\tvalid_loss: 0.886\n",
            "\n",
            "epoch # 15\ttrain_loss: 0.340\tvalid_loss: 0.821\n",
            "\n",
            "epoch # 16\ttrain_loss: 0.296\tvalid_loss: 0.810\n",
            "\n",
            "epoch # 17\ttrain_loss: 0.237\tvalid_loss: 0.760\n",
            "\n",
            "epoch # 18\ttrain_loss: 0.205\tvalid_loss: 0.761\n",
            "\n",
            "epoch # 19\ttrain_loss: 0.165\tvalid_loss: 0.721\n",
            "\n",
            "epoch # 20\ttrain_loss: 0.144\tvalid_loss: 0.725\n",
            "\n",
            "epoch # 21\ttrain_loss: 0.116\tvalid_loss: 0.696\n",
            "\n",
            "epoch # 22\ttrain_loss: 0.101\tvalid_loss: 0.698\n",
            "\n",
            "epoch # 23\ttrain_loss: 0.082\tvalid_loss: 0.680\n",
            "\n",
            "epoch # 24\ttrain_loss: 0.073\tvalid_loss: 0.678\n",
            "\n",
            "epoch # 25\ttrain_loss: 0.060\tvalid_loss: 0.669\n",
            "\n"
          ]
        }
      ]
    },
    {
      "cell_type": "code",
      "source": [
        "epoch_ticks = range(epoch+1)\n",
        "plt.plot(epoch_ticks, train_losses)\n",
        "plt.plot(epoch_ticks, valid_losses)\n",
        "plt.title(\"Losses\")\n",
        "plt.xlabel(\"Epoch #\")\n",
        "plt.ylabel(\"Loss\")\n",
        "plt.xticks(epoch_ticks)\n",
        "plt.show()"
      ],
      "metadata": {
        "colab": {
          "base_uri": "https://localhost:8080/",
          "height": 472
        },
        "id": "j6eF5D8fyRr9",
        "outputId": "5a1c1498-edf3-4df4-b794-8be229410498"
      },
      "execution_count": 14,
      "outputs": [
        {
          "output_type": "display_data",
          "data": {
            "text/plain": [
              "<Figure size 640x480 with 1 Axes>"
            ],
            "image/png": "[encoded data removed]"
          },
          "metadata": {}
        }
      ]
    },
    {
      "cell_type": "code",
      "source": [
        "model.eval()\n",
        "test_accuracy, n_examples = 0, 0\n",
        "y_true, y_pred = [], []\n",
        "input_type = 'bow'\n",
        "\n",
        "with torch.no_grad():\n",
        "    for inputs, target in test_loader:\n",
        "        inputs = inputs.to(device)\n",
        "        target = target.to(device)\n",
        "\n",
        "        probs = model(inputs)\n",
        "        probs = probs.detach().cpu().numpy()\n",
        "        predict = np.argmax (probs, axis=1)\n",
        "        target = target.cpu().numpy()\n",
        "        target = np.argmax (target, axis = 1)\n",
        "\n",
        "        y_true.extend(predict)\n",
        "        y_pred.extend(target)\n",
        "\n",
        "print(classification_report(y_true, y_pred))"
      ],
      "metadata": {
        "colab": {
          "base_uri": "https://localhost:8080/"
        },
        "id": "EqlGurMQyTee",
        "outputId": "aa31167f-3cd3-47a5-cb20-d099dabe2106"
      },
      "execution_count": 15,
      "outputs": [
        {
          "output_type": "stream",
          "name": "stdout",
          "text": [
            "              precision    recall  f1-score   support\n",
            "\n",
            "           0       0.93      1.00      0.96        39\n",
            "           1       0.69      0.76      0.72        58\n",
            "           2       0.79      0.79      0.79        72\n",
            "           3       0.64      0.78      0.70        59\n",
            "           4       0.82      0.71      0.76        66\n",
            "           5       0.82      0.78      0.80        54\n",
            "           6       0.80      0.77      0.79        57\n",
            "           7       0.84      0.79      0.81        58\n",
            "           8       0.87      0.91      0.89        57\n",
            "           9       0.88      0.76      0.82        59\n",
            "\n",
            "    accuracy                           0.80       579\n",
            "   macro avg       0.81      0.81      0.80       579\n",
            "weighted avg       0.80      0.80      0.80       579\n",
            "\n"
          ]
        }
      ]
    },
    {
      "cell_type": "code",
      "source": [
        "def predict_sentiment(text):\n",
        "    model.eval()\n",
        "    with torch.no_grad():\n",
        "      inputs = torch.LongTensor(dataset.pad(dataset.encode(text)[:124])).to(device)\n",
        "      inputs = torch.reshape(inputs, (1,124))\n",
        "      probs = model(inputs)\n",
        "      probs = probs.detach().cpu().numpy()\n",
        "      predict = np.argmax (probs, axis=1)[0]\n",
        "\n",
        "      categories = ['alt.atheism',\n",
        " 'comp.graphics',\n",
        " 'comp.os.ms-windows.misc',\n",
        " 'comp.sys.ibm.pc.hardware',\n",
        " 'comp.sys.mac.hardware',\n",
        " 'comp.windows.x',\n",
        " 'misc.forsale',\n",
        " 'rec.autos',\n",
        " 'rec.motorcycles',\n",
        " 'rec.sport.baseball']\n",
        "\n",
        "      answer = categories[predict]\n",
        "\n",
        "      return answer\n",
        "\n"
      ],
      "metadata": {
        "id": "debp6WMgF5Zf"
      },
      "execution_count": 16,
      "outputs": []
    },
    {
      "cell_type": "code",
      "source": [
        "df = pd.DataFrame(data)"
      ],
      "metadata": {
        "id": "nuulxE5R6dGs"
      },
      "execution_count": 17,
      "outputs": []
    },
    {
      "cell_type": "code",
      "source": [
        "predict_sentiment(df.news[3])"
      ],
      "metadata": {
        "colab": {
          "base_uri": "https://localhost:8080/",
          "height": 35
        },
        "id": "aVa-HOcrF5cq",
        "outputId": "667686ca-ddba-4cae-8076-ac06df65128d"
      },
      "execution_count": 18,
      "outputs": [
        {
          "output_type": "execute_result",
          "data": {
            "text/plain": [
              "'alt.atheism'"
            ],
            "application/vnd.google.colaboratory.intrinsic+json": {
              "type": "string"
            }
          },
          "metadata": {},
          "execution_count": 18
        }
      ]
    }
  ]
}